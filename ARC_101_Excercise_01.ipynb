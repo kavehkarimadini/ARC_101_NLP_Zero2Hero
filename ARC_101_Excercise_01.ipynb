{
 "cells": [
  {
   "cell_type": "markdown",
   "metadata": {},
   "source": [
    "## Write a Python function that prints all the numbers divisible by 7 between 10 and 100, excluding those divisible by 5."
   ]
  },
  {
   "cell_type": "code",
   "execution_count": null,
   "metadata": {},
   "outputs": [],
   "source": [
    "# write your answer here:\n"
   ]
  },
  {
   "cell_type": "code",
   "execution_count": 1,
   "metadata": {
    "jupyter": {
     "source_hidden": true
    }
   },
   "outputs": [
    {
     "name": "stdout",
     "output_type": "stream",
     "text": [
      "14\n",
      "21\n",
      "28\n",
      "42\n",
      "49\n",
      "56\n",
      "63\n",
      "77\n",
      "84\n",
      "91\n",
      "98\n"
     ]
    }
   ],
   "source": [
    "# Click for solution\n",
    "def Dividable7Between10to100():\n",
    "    for i in range(10,101):\n",
    "        if (i%7) == 0 and (i%5) != 0:\n",
    "            print(i)\n",
    "\n",
    "Dividable7Between10to100()"
   ]
  },
  {
   "cell_type": "markdown",
   "metadata": {},
   "source": [
    "## Create a Python function that generates a 2D array (5x4) containing the squares of numbers from 1 to 20 using NumPy, and then provide the code for it."
   ]
  },
  {
   "cell_type": "code",
   "execution_count": null,
   "metadata": {},
   "outputs": [],
   "source": [
    "# write your answer here:\n"
   ]
  },
  {
   "cell_type": "code",
   "execution_count": 2,
   "metadata": {
    "jupyter": {
     "source_hidden": true
    }
   },
   "outputs": [
    {
     "data": {
      "text/plain": [
       "array([[  1,   4,   9,  16],\n",
       "       [ 25,  36,  49,  64],\n",
       "       [ 81, 100, 121, 144],\n",
       "       [169, 196, 225, 256],\n",
       "       [289, 324, 361, 400]])"
      ]
     },
     "execution_count": 2,
     "metadata": {},
     "output_type": "execute_result"
    }
   ],
   "source": [
    "# Click for solution\n",
    "import numpy as np\n",
    "def printSquared1to20():\n",
    "    output = []\n",
    "    for i in range(1,21):\n",
    "        output.append(i**2)\n",
    "    output = np.reshape(output,(5,4))\n",
    "    return output\n",
    "\n",
    "printSquared1to20()"
   ]
  },
  {
   "cell_type": "markdown",
   "metadata": {},
   "source": [
    "## Write a Python function that generates an 8-digit password using random digits (0-9), ensuring each digit is unique within the password."
   ]
  },
  {
   "cell_type": "code",
   "execution_count": null,
   "metadata": {},
   "outputs": [],
   "source": [
    "# write your answer here:\n"
   ]
  },
  {
   "cell_type": "code",
   "execution_count": 3,
   "metadata": {
    "jupyter": {
     "source_hidden": true
    }
   },
   "outputs": [
    {
     "data": {
      "text/plain": [
       "'65783190'"
      ]
     },
     "execution_count": 3,
     "metadata": {},
     "output_type": "execute_result"
    }
   ],
   "source": [
    "# Click for solution\n",
    "def generatePassword():\n",
    "    password = ''\n",
    "    while (len(password) != 8):\n",
    "        randData = str(np.random.randint(0,10))\n",
    "        if(randData not in password):\n",
    "            password += randData\n",
    "        else:\n",
    "            continue\n",
    "    return password\n",
    "\n",
    "generatePassword()"
   ]
  },
  {
   "cell_type": "markdown",
   "metadata": {},
   "source": [
    "## Write a Python function that calculates and prints Fibonacci numbers up to a specified input number, taking user input to determine the range."
   ]
  },
  {
   "cell_type": "code",
   "execution_count": null,
   "metadata": {},
   "outputs": [],
   "source": [
    "# write your answer here:\n"
   ]
  },
  {
   "cell_type": "code",
   "execution_count": 4,
   "metadata": {
    "jupyter": {
     "source_hidden": true
    }
   },
   "outputs": [
    {
     "name": "stdout",
     "output_type": "stream",
     "text": [
      "Enter a Number to calculate Fibo:5\n"
     ]
    },
    {
     "data": {
      "text/plain": [
       "[0, 1, 1, 2, 3]"
      ]
     },
     "execution_count": 4,
     "metadata": {},
     "output_type": "execute_result"
    }
   ],
   "source": [
    "# Click for solution\n",
    "def fibonacci(n):\n",
    "    if n in {0,1}:\n",
    "        return n\n",
    "    return fibonacci(n-1) + fibonacci(n-2)\n",
    "\n",
    "number = input(\"Enter a Number to calculate Fibo:\")\n",
    "result = [fibonacci(n) for n in range(int(number))]\n",
    "result"
   ]
  },
  {
   "cell_type": "markdown",
   "metadata": {},
   "source": [
    "## Create a Python function that calculates the time difference in hours, minutes, and seconds between a given birthdate and the current date, and then provide the code for it."
   ]
  },
  {
   "cell_type": "code",
   "execution_count": null,
   "metadata": {},
   "outputs": [],
   "source": [
    "# write your answer here:\n"
   ]
  },
  {
   "cell_type": "code",
   "execution_count": 7,
   "metadata": {
    "jupyter": {
     "source_hidden": true
    }
   },
   "outputs": [
    {
     "name": "stdout",
     "output_type": "stream",
     "text": [
      "Enter your birthdate in this format: YYYY-MM-DD1999-05-25\n",
      "You live 213024 Hours, 12781440 Minute and 766886400 Seconds up to now!!\n"
     ]
    }
   ],
   "source": [
    "# Click for solution\n",
    "from datetime import datetime,date\n",
    "def dateDiff(birthDate, currentDate):\n",
    "    formater = \"%Y-%m-%d\"\n",
    "    try:\n",
    "        birthDate = datetime.strptime(birthDate,formater).date()\n",
    "    except:\n",
    "        print(\"This is the incorrect date string format. It should be YYYY-MM-DD\")\n",
    "        return\n",
    "    \n",
    "    days = abs((currentDate - birthDate)).days\n",
    "    hours = days * 24\n",
    "    minutes = hours * 60\n",
    "    seconds = minutes * 60\n",
    "\n",
    "    result = 'You live {} Hours, {} Minute and {} Seconds up to now!!'.format(hours,minutes,seconds)\n",
    "    return result\n",
    "\n",
    "birthDate = input(\"Enter your birthdate in this format: YYYY-MM-DD\")\n",
    "print(dateDiff(birthDate,date.today()))\n"
   ]
  },
  {
   "cell_type": "markdown",
   "metadata": {},
   "source": [
    "## Write a Python function that takes a birth year as input, calculates the age in years, and converts it to seconds. Then, provide the code for this function."
   ]
  },
  {
   "cell_type": "code",
   "execution_count": null,
   "metadata": {},
   "outputs": [],
   "source": [
    "# write your answer here:\n"
   ]
  },
  {
   "cell_type": "code",
   "execution_count": 8,
   "metadata": {
    "jupyter": {
     "source_hidden": true
    }
   },
   "outputs": [
    {
     "name": "stdout",
     "output_type": "stream",
     "text": [
      "Enter you birth year in Gregorian:1999\n",
      "757440000\n"
     ]
    }
   ],
   "source": [
    "# Click for solution\n",
    "from datetime import date\n",
    "def convertAgeToseconds(birthYear):\n",
    "    if(birthYear<1900):\n",
    "        return \"Invalid Number\"  \n",
    "    currentYear = date.today().year\n",
    "    age = currentYear - birthYear\n",
    "    return (age * (31560000))\n",
    "\n",
    "year = input(\"Enter you birth year in Gregorian:\")\n",
    "print(convertAgeToseconds(int(year)))"
   ]
  }
 ],
 "metadata": {
  "interpreter": {
   "hash": "4e74caa26e44240f92839a7d1827dec098e9029f1451760249d739a94120c6e4"
  },
  "kernelspec": {
   "display_name": "Python 3 (ipykernel)",
   "language": "python",
   "name": "python3"
  },
  "language_info": {
   "codemirror_mode": {
    "name": "ipython",
    "version": 3
   },
   "file_extension": ".py",
   "mimetype": "text/x-python",
   "name": "python",
   "nbconvert_exporter": "python",
   "pygments_lexer": "ipython3",
   "version": "3.11.5"
  }
 },
 "nbformat": 4,
 "nbformat_minor": 4
}
